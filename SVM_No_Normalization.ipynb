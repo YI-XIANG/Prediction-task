{
 "cells": [
  {
   "cell_type": "code",
   "execution_count": 1,
   "metadata": {},
   "outputs": [],
   "source": [
    "import pandas as pd\n",
    "import numpy as np\n",
    "import matplotlib.pyplot as plt\n",
    "from sklearn import svm\n",
    "from sklearn.model_selection import train_test_split\n",
    "from sklearn.metrics import confusion_matrix\n",
    "from sklearn import metrics\n",
    "\n",
    "train = pd.read_csv(r\"./Data/Result.csv\")"
   ]
  },
  {
   "cell_type": "code",
   "execution_count": 2,
   "metadata": {},
   "outputs": [],
   "source": [
    "train = train.astype({\n",
    "    \"Month\":'category',\n",
    "    \"OperatingSystems\":'category',\n",
    "    \"Browser\":'category',\n",
    "    \"Region\":'category',\n",
    "    \"TrafficType\":'category',\n",
    "    \"VisitorType\":'category',\n",
    "    \"Weekend\":'bool',\n",
    "    \"Revenue\":'bool'\n",
    "})"
   ]
  },
  {
   "cell_type": "code",
   "execution_count": 3,
   "metadata": {},
   "outputs": [],
   "source": [
    "train = train.set_index('ID')\n",
    "Data = train.drop([\"Revenue\"], axis=1)\n",
    "Target = train['Revenue']\n",
    "X_train, X_test, y_train, y_test = train_test_split(Data, Target,test_size=0.2,random_state=0)"
   ]
  },
  {
   "cell_type": "code",
   "execution_count": 4,
   "metadata": {},
   "outputs": [],
   "source": [
    "clf=svm.SVC(kernel='rbf',C=1,gamma='auto')\n",
    "clf.fit(X_train,y_train)\n",
    "pred_test = clf.predict(X_test)\n",
    "pred_train = clf.predict(X_train)"
   ]
  },
  {
   "cell_type": "code",
   "execution_count": 5,
   "metadata": {},
   "outputs": [
    {
     "name": "stdout",
     "output_type": "stream",
     "text": [
      "Train Accuracy 0.9987642879209144\n",
      "Test Accuracy 0.8332303891290921\n",
      "Recall: 0.0\n"
     ]
    }
   ],
   "source": [
    "print(\"Train Accuracy\",clf.score(X_train,y_train))\n",
    "print(\"Test Accuracy\", clf.score(X_test, y_test))\n",
    "print(\"Recall:\", metrics.recall_score(y_test, pred_test))"
   ]
  },
  {
   "cell_type": "code",
   "execution_count": 6,
   "metadata": {},
   "outputs": [
    {
     "data": {
      "image/png": "[encoded data removed]",
      "text/plain": [
       "<Figure size 180x180 with 1 Axes>"
      ]
     },
     "metadata": {
      "needs_background": "light"
     },
     "output_type": "display_data"
    },
    {
     "data": {
      "image/png": "[encoded data removed]",
      "text/plain": [
       "<Figure size 180x180 with 1 Axes>"
      ]
     },
     "metadata": {
      "needs_background": "light"
     },
     "output_type": "display_data"
    }
   ],
   "source": [
    "def Plot_confusion(y_true, y_pred):\n",
    "    confmat = confusion_matrix(y_true=y_true, y_pred=y_pred)\n",
    "    fig, ax = plt.subplots(figsize=(2.5, 2.5))\n",
    "    ax.matshow(confmat, cmap=plt.cm.Blues, alpha=0.3)\n",
    "    for i in range(confmat.shape[0]):\n",
    "        for j in range(confmat.shape[1]):\n",
    "            ax.text(x=j, y=i, s=confmat[i,j], va='center', ha='center')\n",
    "    plt.xlabel('predicted label')        \n",
    "    plt.ylabel('true label')\n",
    "    plt.show()\n",
    "#Test data\n",
    "Plot_confusion(y_test, pred_test)\n",
    "\n",
    "#train data\n",
    "Plot_confusion(y_train,pred_train)"
   ]
  },
  {
   "cell_type": "markdown",
   "metadata": {},
   "source": [
    ">可以發現如果不做Normalization，盡管在Train Data效果很好，訓練出來的模型把Test Data都預測0(Recall = 0)，這樣的模型是沒有意義的。\n"
   ]
  }
 ],
 "metadata": {
  "kernelspec": {
   "display_name": "Python 3",
   "language": "python",
   "name": "python3"
  },
  "language_info": {
   "codemirror_mode": {
    "name": "ipython",
    "version": 3
   },
   "file_extension": ".py",
   "mimetype": "text/x-python",
   "name": "python",
   "nbconvert_exporter": "python",
   "pygments_lexer": "ipython3",
   "version": "3.6.8"
  }
 },
 "nbformat": 4,
 "nbformat_minor": 2
}
